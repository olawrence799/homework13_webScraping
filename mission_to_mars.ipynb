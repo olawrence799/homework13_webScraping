{
 "cells": [
  {
   "cell_type": "code",
   "execution_count": 5,
   "metadata": {
    "collapsed": true
   },
   "outputs": [],
   "source": [
    "import pandas as pd\n",
    "import time\n",
    "import collections\n",
    "from splinter import Browser\n",
    "from bs4 import BeautifulSoup"
   ]
  },
  {
   "cell_type": "code",
   "execution_count": 6,
   "metadata": {
    "collapsed": true
   },
   "outputs": [],
   "source": [
    "def init_browser():\n",
    "    executable_path = {'executable_path': '/usr/local/bin/chromedriver'}\n",
    "    return Browser('chrome', **executable_path, headless=False)"
   ]
  },
  {
   "cell_type": "code",
   "execution_count": 7,
   "metadata": {
    "collapsed": true
   },
   "outputs": [],
   "source": [
    "def scrape():\n",
    "    browser = init_browser()\n",
    "    scraped_data = {}\n",
    "    \n",
    "    mars_news_url = \"https://mars.nasa.gov/news/?page=0&per_page=15&order=publish_date+desc%2Ccreated_at+desc&search=&category=19%2C165%2C184%2C204&blank_scope=Latest\"\n",
    "    browser.visit(mars_news_url)\n",
    "    \n",
    "    time.sleep(2)\n",
    "    html = browser.html\n",
    "    soup = BeautifulSoup(html, 'html.parser')\n",
    "    news_title = soup.find('div', class_='content_title').get_text()\n",
    "    news_p = soup.find('div', class_='article_teaser_body').get_text()\n",
    "    scraped_data['news_title'] = news_title\n",
    "    scraped_data['news_p'] = news_p\n",
    "    \n",
    "    jpl_url = \"https://www.jpl.nasa.gov/spaceimages/?search=&category=Mars\"\n",
    "    browser.visit(jpl_url)\n",
    "    \n",
    "    time.sleep(2)\n",
    "    html_jpl = browser.html\n",
    "    soup_jpl = BeautifulSoup(html_jpl, 'html.parser')\n",
    "    featured_image_url = \"https://www.jpl.nasa.gov\" + soup_jpl.find('a', class_='button fancybox')['data-fancybox-href']\n",
    "    scraped_data['featured_image_url'] = featured_image_url\n",
    "    \n",
    "    twitter_url = \"https://twitter.com/marswxreport?lang=en\"\n",
    "    browser.visit(twitter_url)\n",
    "    \n",
    "    time.sleep(2)\n",
    "    html_twitter = browser.html\n",
    "    soup_twitter = BeautifulSoup(html_twitter, 'html.parser')\n",
    "    mars_weather = soup_twitter.find(class_='js-tweet-text-container').find(class_='TweetTextSize TweetTextSize--normal js-tweet-text tweet-text').get_text()\n",
    "    scraped_data['mars_weather'] = mars_weather\n",
    "    \n",
    "    facts_url = \"https://space-facts.com/mars/\"\n",
    "    browser.visit(facts_url)\n",
    "    \n",
    "    time.sleep(2)\n",
    "    html_facts = browser.html\n",
    "    soup_facts = BeautifulSoup(html_facts, 'html.parser')\n",
    "    facts_table = soup_facts.find(id=\"tablepress-mars\")\n",
    "    \n",
    "    #df = pd.read_html(str(facts_table))\n",
    "    df = pd.read_html(html_facts)[0]\n",
    "    #df = df[0]\n",
    "    #facts = pd.Series(df[1].values, index = df[0]).to_dict()\n",
    "    facts = df.to_html()\n",
    "    scraped_data['facts'] = facts\n",
    "    \n",
    "    hemispheres_url = \"https://astrogeology.usgs.gov/search/results?q=hemisphere+enhanced&k1=target&v1=Mars\"\n",
    "    browser.visit(hemispheres_url)\n",
    "    \n",
    "    time.sleep(2)\n",
    "    html_hemispheres = browser.html\n",
    "    soup_hemispheres = BeautifulSoup(html_hemispheres, 'html.parser')\n",
    "    hemi_links = []\n",
    "    img_links = soup_hemispheres.select(\"div.description\")\n",
    "    \n",
    "    for i in img_links:\n",
    "        url = \"https://astrogeology.usgs.gov\" + i.find('a', class_='itemLink')['href']\n",
    "        hemi_links.append(url)\n",
    "        \n",
    "    hemi_images = []\n",
    "    \n",
    "    for link in hemi_links:\n",
    "        titles_imgUrls = {}\n",
    "        browser.visit(link)\n",
    "        html = browser.html\n",
    "        soup = BeautifulSoup(html, 'html.parser')\n",
    "        img_url = \"https://astrogeology.usgs.gov\" + soup.find(class_='wide-image')['src']\n",
    "        hemi_title = browser.title.split(\"|\")[0][:-10]\n",
    "        titles_imgUrls['title'] = hemi_title\n",
    "        titles_imgUrls['img_url'] = img_url\n",
    "        #titles_imgUrls = collections.OrderedDict(sorted(titles_imgUrls.items()))\n",
    "        hemi_images.append(titles_imgUrls)\n",
    "        \n",
    "    scraped_data['hemisphere_image_urls'] = hemi_images\n",
    "    \n",
    "    return scraped_data"
   ]
  },
  {
   "cell_type": "code",
   "execution_count": 8,
   "metadata": {},
   "outputs": [
    {
     "data": {
      "text/plain": [
       "{'facts': '<table border=\"1\" class=\"dataframe\">\\n  <thead>\\n    <tr style=\"text-align: right;\">\\n      <th></th>\\n      <th>0</th>\\n      <th>1</th>\\n    </tr>\\n  </thead>\\n  <tbody>\\n    <tr>\\n      <th>0</th>\\n      <td>Equatorial Diameter:</td>\\n      <td>6,792 km</td>\\n    </tr>\\n    <tr>\\n      <th>1</th>\\n      <td>Polar Diameter:</td>\\n      <td>6,752 km</td>\\n    </tr>\\n    <tr>\\n      <th>2</th>\\n      <td>Mass:</td>\\n      <td>6.42 x 10^23 kg (10.7% Earth)</td>\\n    </tr>\\n    <tr>\\n      <th>3</th>\\n      <td>Moons:</td>\\n      <td>2 (Phobos &amp; Deimos)</td>\\n    </tr>\\n    <tr>\\n      <th>4</th>\\n      <td>Orbit Distance:</td>\\n      <td>227,943,824 km (1.52 AU)</td>\\n    </tr>\\n    <tr>\\n      <th>5</th>\\n      <td>Orbit Period:</td>\\n      <td>687 days (1.9 years)</td>\\n    </tr>\\n    <tr>\\n      <th>6</th>\\n      <td>Surface Temperature:</td>\\n      <td>-153 to 20 °C</td>\\n    </tr>\\n    <tr>\\n      <th>7</th>\\n      <td>First Record:</td>\\n      <td>2nd millennium BC</td>\\n    </tr>\\n    <tr>\\n      <th>8</th>\\n      <td>Recorded By:</td>\\n      <td>Egyptian astronomers</td>\\n    </tr>\\n  </tbody>\\n</table>',\n",
       " 'featured_image_url': 'https://www.jpl.nasa.gov/spaceimages/images/mediumsize/PIA18322_ip.jpg',\n",
       " 'hemisphere_image_urls': [{'img_url': 'https://astrogeology.usgs.gov/cache/images/cfa62af2557222a02478f1fcd781d445_cerberus_enhanced.tif_full.jpg',\n",
       "   'title': 'Cerberus Hemisphere'},\n",
       "  {'img_url': 'https://astrogeology.usgs.gov/cache/images/3cdd1cbf5e0813bba925c9030d13b62e_schiaparelli_enhanced.tif_full.jpg',\n",
       "   'title': 'Schiaparelli Hemisphere'},\n",
       "  {'img_url': 'https://astrogeology.usgs.gov/cache/images/ae209b4e408bb6c3e67b6af38168cf28_syrtis_major_enhanced.tif_full.jpg',\n",
       "   'title': 'Syrtis Major Hemisphere'},\n",
       "  {'img_url': 'https://astrogeology.usgs.gov/cache/images/7cf2da4bf549ed01c17f206327be4db7_valles_marineris_enhanced.tif_full.jpg',\n",
       "   'title': 'Valles Marineris Hemisphere'}],\n",
       " 'mars_weather': 'Sol 1977 (Feb 27, 2018), Sunny, high -10C/14F, low -77C/-106F, pressure at 7.27 hPa, daylight 05:37-17:25',\n",
       " 'news_p': \"NASA's InSight spacecraft has arrived at Vandenberg Air Force Base in central California to begin final preparations for a launch this May.\",\n",
       " 'news_title': 'NASA InSight Mission to Mars Arrives at Launch Site'}"
      ]
     },
     "execution_count": 8,
     "metadata": {},
     "output_type": "execute_result"
    }
   ],
   "source": [
    "scrape()"
   ]
  },
  {
   "cell_type": "code",
   "execution_count": null,
   "metadata": {
    "collapsed": true
   },
   "outputs": [],
   "source": []
  }
 ],
 "metadata": {
  "kernelspec": {
   "display_name": "Python 3",
   "language": "python",
   "name": "python3"
  },
  "language_info": {
   "codemirror_mode": {
    "name": "ipython",
    "version": 3
   },
   "file_extension": ".py",
   "mimetype": "text/x-python",
   "name": "python",
   "nbconvert_exporter": "python",
   "pygments_lexer": "ipython3",
   "version": "3.6.3"
  }
 },
 "nbformat": 4,
 "nbformat_minor": 2
}
